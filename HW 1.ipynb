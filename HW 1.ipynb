{
 "cells": [
  {
   "cell_type": "code",
   "execution_count": 1,
   "metadata": {
    "collapsed": true
   },
   "outputs": [],
   "source": [
    "import sympy\n",
    "\n",
    "import adaptive_trapezint as p1\n",
    "import sinesum1 as p2\n",
    "import centered_diff as p3\n",
    "import find_primes as p4"
   ]
  },
  {
   "cell_type": "markdown",
   "metadata": {},
   "source": [
    "# Homework 1\n",
    "## Austin Ayers\n",
    "### 2/12/2016\n",
    "\n",
    "### Excercises Completed:\n",
    "    Exercise 3.8 (adaptive_trapezint.py)\n",
    "    Exercise 3.15 (sinesum1.py)\n",
    "    Exercise 3.18 (centered_diff.py)\n",
    "    Exercise 3.20 (find_primes.py)"
   ]
  },
  {
   "cell_type": "markdown",
   "metadata": {},
   "source": [
    "## Adaptive trapezint\n",
    "    Program that takes takes a function an approximates its integral using the trapezoidal rule. As well, the program uses a varying n (number of subdivisions) to acquire a certain accuracy."
   ]
  },
  {
   "cell_type": "code",
   "execution_count": 2,
   "metadata": {
    "collapsed": false
   },
   "outputs": [
    {
     "name": "stdout",
     "output_type": "stream",
     "text": [
      "Function\tError\t\t\tEstimated n\n",
      "Cos [0,Pi]\t0.00226972593728\t508.367284751\n",
      "Sin [0,Pi]\t8.94076871116e-06\t508.367284751\n",
      "Sin [0,Pi/2]\t0.00642962323093\t508.367284751\n"
     ]
    }
   ],
   "source": [
    "p1.outputInformation()"
   ]
  },
  {
   "cell_type": "markdown",
   "metadata": {},
   "source": [
    "## Sine Summation\n",
    "    Program that compares a piecewise function: See 2.png\n",
    "    and the function that can approximate it: See 1.png"
   ]
  },
  {
   "cell_type": "code",
   "execution_count": 3,
   "metadata": {
    "collapsed": false
   },
   "outputs": [
    {
     "name": "stdout",
     "output_type": "stream",
     "text": [
      "\n",
      "n\talpha\t\tValue of S\t\tValue of f\tValue of f - S\n",
      "\n",
      "\n",
      "\n",
      "1\t0.01\t0.0795270998917\t\t1\t\t0.920472900108\n",
      "1\t0.25\t-0.424413181578\t\t1\t\t1.42441318158\n",
      "1\t0.49\t0.0795270998917\t\t1\t\t0.920472900108\n",
      "\n",
      "\n",
      "3\t0.01\t0.235663207245\t\t1\t\t0.764336792755\n",
      "3\t0.25\t-0.351656636165\t\t1\t\t1.35165663616\n",
      "3\t0.49\t0.235663207245\t\t1\t\t0.764336792755\n",
      "\n",
      "\n",
      "5\t0.01\t0.385248413145\t\t1\t\t0.614751586855\n",
      "5\t0.25\t-0.32593462516\t\t1\t\t1.32593462516\n",
      "5\t0.49\t0.385248413145\t\t1\t\t0.614751586855\n",
      "\n",
      "\n",
      "10\t0.01\t0.711980829915\t\t1\t\t0.288019170085\n",
      "10\t0.25\t-0.244361467333\t\t1\t\t1.24436146733\n",
      "10\t0.49\t0.711980829915\t\t1\t\t0.288019170085\n",
      "\n",
      "\n",
      "30\t0.01\t1.05156392494\t\t1\t\t-0.0515639249442\n",
      "30\t0.25\t-0.262974151619\t\t1\t\t1.26297415162\n",
      "30\t0.49\t1.05156392494\t\t1\t\t-0.0515639249442\n",
      "\n",
      "\n",
      "100\t0.01\t0.870356367282\t\t1\t\t0.129643632718\n",
      "100\t0.25\t-0.270088038931\t\t1\t\t1.27008803893\n",
      "100\t0.49\t0.870356367282\t\t1\t\t0.129643632718\n"
     ]
    }
   ],
   "source": [
    "p2.outputTable()"
   ]
  },
  {
   "cell_type": "markdown",
   "metadata": {},
   "source": [
    "## Centered Diff\n",
    "    Approximates a derivative of a function f(x) using an approximation formula"
   ]
  },
  {
   "cell_type": "code",
   "execution_count": 4,
   "metadata": {
    "collapsed": false
   },
   "outputs": [
    {
     "name": "stdout",
     "output_type": "stream",
     "text": [
      "error of e^x @ (x=0): 1.66667499921e-05\n",
      "error of e^(-2x^2) @ (x=0): 0.0\n",
      "error of cos(x) @ (x=2pi): 0\n",
      "error of ln(x) @ (x=1): 1.00003333533348\n"
     ]
    }
   ],
   "source": [
    "p3.application()"
   ]
  },
  {
   "cell_type": "markdown",
   "metadata": {},
   "source": [
    "## Find Prime Numbers\n",
    "    Uses the Sieve of Eratostenes to produce prime numbers"
   ]
  },
  {
   "cell_type": "code",
   "execution_count": 5,
   "metadata": {
    "collapsed": false
   },
   "outputs": [
    {
     "name": "stdout",
     "output_type": "stream",
     "text": [
      "2\n",
      "3\n",
      "5\n",
      "7\n",
      "11\n",
      "13\n",
      "17\n",
      "19\n",
      "23\n",
      "29\n",
      "31\n",
      "37\n",
      "41\n",
      "43\n",
      "47\n",
      "53\n",
      "59\n",
      "61\n",
      "67\n",
      "71\n"
     ]
    }
   ],
   "source": [
    "p4.output()"
   ]
  },
  {
   "cell_type": "code",
   "execution_count": null,
   "metadata": {
    "collapsed": true
   },
   "outputs": [],
   "source": []
  }
 ],
 "metadata": {
  "kernelspec": {
   "display_name": "Python 2 (SageMath)",
   "language": "python",
   "name": "python2"
  },
  "language_info": {
   "codemirror_mode": {
    "name": "ipython",
    "version": 2
   },
   "file_extension": ".py",
   "mimetype": "text/x-python",
   "name": "python",
   "nbconvert_exporter": "python",
   "pygments_lexer": "ipython2",
   "version": "2.7.10"
  },
  "name": "HW 1.ipynb"
 },
 "nbformat": 4,
 "nbformat_minor": 0
}
